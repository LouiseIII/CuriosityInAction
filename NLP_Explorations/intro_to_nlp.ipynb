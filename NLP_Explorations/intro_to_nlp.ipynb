{
 "cells": [
  {
   "cell_type": "code",
   "execution_count": 16,
   "metadata": {},
   "outputs": [
    {
     "name": "stderr",
     "output_type": "stream",
     "text": [
      "2024-10-22 17:34:04.013002: I tensorflow/core/platform/cpu_feature_guard.cc:210] This TensorFlow binary is optimized to use available CPU instructions in performance-critical operations.\n",
      "To enable the following instructions: AVX2 FMA, in other operations, rebuild TensorFlow with the appropriate compiler flags.\n",
      "/Users/choupie/miniconda3/envs/epi/lib/python3.9/site-packages/pandas/core/arrays/masked.py:60: UserWarning: Pandas requires version '1.3.6' or newer of 'bottleneck' (version '1.3.5' currently installed).\n",
      "  from pandas.core import (\n"
     ]
    }
   ],
   "source": [
    "from transformers import pipeline\n",
    "import pandas as pd"
   ]
  },
  {
   "attachments": {},
   "cell_type": "markdown",
   "metadata": {},
   "source": [
    "# Natural Language Processing\n",
    "\n",
    "1) Comprendre les bases du NLP : On peut explorer les concepts clés tels que le tokenization, la lemmatisation, et le stemming, ainsi que les modèles de langage.\n",
    "2) Introduction à la manipulation du texte : Utilisation de bibliothèques Python comme NLTK, spaCy ou Hugging Face pour la manipulation du texte.\n",
    "3) Modèles de classification de texte : Apprentissage supervisé et non supervisé pour classer des textes.\n",
    "4) Modèles avancés : Plonger dans les modèles de deep learning pour le NLP (comme les LSTM, GRU, et BERT)."
   ]
  },
  {
   "attachments": {},
   "cell_type": "markdown",
   "metadata": {},
   "source": [
    "## 1) Sentiment Analysis of Movie Reviews with DistilBERT\n",
    "\n",
    "In this project, we utilize the **pre-trained DistilBERT model** to perform sentiment analysis on movie reviews. \n",
    "By leveraging the Hugging Face transformers library, we classify text data into positive or negative sentiments. This project introduces to the basics of working with pre-trained NLP models, including data preprocessing, model loading, and prediction evaluation. It is an excellent starting point for understanding how deep learning models can be applied to real-world text classification tasks with minimal setup."
   ]
  },
  {
   "cell_type": "code",
   "execution_count": 29,
   "metadata": {},
   "outputs": [
    {
     "name": "stderr",
     "output_type": "stream",
     "text": [
      "No model was supplied, defaulted to distilbert/distilbert-base-uncased-finetuned-sst-2-english and revision 714eb0f (https://huggingface.co/distilbert/distilbert-base-uncased-finetuned-sst-2-english).\n",
      "Using a pipeline without specifying a model name and revision in production is not recommended.\n"
     ]
    },
    {
     "data": {
      "text/html": [
       "<div>\n",
       "<style scoped>\n",
       "    .dataframe tbody tr th:only-of-type {\n",
       "        vertical-align: middle;\n",
       "    }\n",
       "\n",
       "    .dataframe tbody tr th {\n",
       "        vertical-align: top;\n",
       "    }\n",
       "\n",
       "    .dataframe thead th {\n",
       "        text-align: right;\n",
       "    }\n",
       "</style>\n",
       "<table border=\"1\" class=\"dataframe\">\n",
       "  <thead>\n",
       "    <tr style=\"text-align: right;\">\n",
       "      <th></th>\n",
       "      <th>Critique</th>\n",
       "      <th>Prédiction</th>\n",
       "    </tr>\n",
       "  </thead>\n",
       "  <tbody>\n",
       "    <tr>\n",
       "      <th>0</th>\n",
       "      <td>The plot of the movie was really engaging, I w...</td>\n",
       "      <td>{'label': 'POSITIVE', 'score': 0.9985288381576...</td>\n",
       "    </tr>\n",
       "    <tr>\n",
       "      <th>1</th>\n",
       "      <td>I wasted two hours of my life on this movie, a...</td>\n",
       "      <td>{'label': 'NEGATIVE', 'score': 0.9997908473014...</td>\n",
       "    </tr>\n",
       "    <tr>\n",
       "      <th>2</th>\n",
       "      <td>The acting was superb, but the storyline was a...</td>\n",
       "      <td>{'label': 'NEGATIVE', 'score': 0.9987069368362...</td>\n",
       "    </tr>\n",
       "    <tr>\n",
       "      <th>3</th>\n",
       "      <td>This was one of the best films I've seen this ...</td>\n",
       "      <td>{'label': 'POSITIVE', 'score': 0.9998584985733...</td>\n",
       "    </tr>\n",
       "    <tr>\n",
       "      <th>4</th>\n",
       "      <td>I couldn't stand the pacing of the film, it wa...</td>\n",
       "      <td>{'label': 'NEGATIVE', 'score': 0.9997641444206...</td>\n",
       "    </tr>\n",
       "    <tr>\n",
       "      <th>5</th>\n",
       "      <td>The cinematography was breathtaking, but the c...</td>\n",
       "      <td>{'label': 'NEGATIVE', 'score': 0.9988096952438...</td>\n",
       "    </tr>\n",
       "    <tr>\n",
       "      <th>6</th>\n",
       "      <td>Honestly, I was disappointed. The trailer made...</td>\n",
       "      <td>{'label': 'NEGATIVE', 'score': 0.9990822076797...</td>\n",
       "    </tr>\n",
       "    <tr>\n",
       "      <th>7</th>\n",
       "      <td>This movie was a pleasant surprise, full of em...</td>\n",
       "      <td>{'label': 'POSITIVE', 'score': 0.9998873472213...</td>\n",
       "    </tr>\n",
       "    <tr>\n",
       "      <th>8</th>\n",
       "      <td>The special effects were impressive, but the d...</td>\n",
       "      <td>{'label': 'NEGATIVE', 'score': 0.9915518760681...</td>\n",
       "    </tr>\n",
       "    <tr>\n",
       "      <th>9</th>\n",
       "      <td>I had really high hopes, but the movie fell fl...</td>\n",
       "      <td>{'label': 'NEGATIVE', 'score': 0.9996557235717...</td>\n",
       "    </tr>\n",
       "  </tbody>\n",
       "</table>\n",
       "</div>"
      ],
      "text/plain": [
       "                                            Critique  \\\n",
       "0  The plot of the movie was really engaging, I w...   \n",
       "1  I wasted two hours of my life on this movie, a...   \n",
       "2  The acting was superb, but the storyline was a...   \n",
       "3  This was one of the best films I've seen this ...   \n",
       "4  I couldn't stand the pacing of the film, it wa...   \n",
       "5  The cinematography was breathtaking, but the c...   \n",
       "6  Honestly, I was disappointed. The trailer made...   \n",
       "7  This movie was a pleasant surprise, full of em...   \n",
       "8  The special effects were impressive, but the d...   \n",
       "9  I had really high hopes, but the movie fell fl...   \n",
       "\n",
       "                                          Prédiction  \n",
       "0  {'label': 'POSITIVE', 'score': 0.9985288381576...  \n",
       "1  {'label': 'NEGATIVE', 'score': 0.9997908473014...  \n",
       "2  {'label': 'NEGATIVE', 'score': 0.9987069368362...  \n",
       "3  {'label': 'POSITIVE', 'score': 0.9998584985733...  \n",
       "4  {'label': 'NEGATIVE', 'score': 0.9997641444206...  \n",
       "5  {'label': 'NEGATIVE', 'score': 0.9988096952438...  \n",
       "6  {'label': 'NEGATIVE', 'score': 0.9990822076797...  \n",
       "7  {'label': 'POSITIVE', 'score': 0.9998873472213...  \n",
       "8  {'label': 'NEGATIVE', 'score': 0.9915518760681...  \n",
       "9  {'label': 'NEGATIVE', 'score': 0.9996557235717...  "
      ]
     },
     "execution_count": 29,
     "metadata": {},
     "output_type": "execute_result"
    }
   ],
   "source": [
    "classifier = pipeline('sentiment-analysis')\n",
    "\n",
    "critiques =[\n",
    "    \"The plot of the movie was really engaging, I was hooked from start to finish.\",\n",
    "    \"I wasted two hours of my life on this movie, absolutely terrible.\",\n",
    "    \"The acting was superb, but the storyline was a bit predictable.\",\n",
    "    \"This was one of the best films I've seen this year. Highly recommend!\",\n",
    "    \"I couldn't stand the pacing of the film, it was way too slow.\",\n",
    "    \"The cinematography was breathtaking, but the character development was lacking.\",\n",
    "    \"Honestly, I was disappointed. The trailer made it look way better than it actually was.\",\n",
    "    \"This movie was a pleasant surprise, full of emotional depth and great performances.\",\n",
    "    \"The special effects were impressive, but the dialogue was cringe-worthy.\",\n",
    "    \"I had really high hopes, but the movie fell flat in almost every way.\"\n",
    "]\n",
    "\n",
    "resultats = classifier(critiques)\n",
    "df = pd.DataFrame(list(zip(critiques, resultats)), columns=['Critique', 'Prédiction'])\n",
    "\n",
    "df"
   ]
  },
  {
   "cell_type": "code",
   "execution_count": null,
   "metadata": {},
   "outputs": [],
   "source": []
  }
 ],
 "metadata": {
  "kernelspec": {
   "display_name": "Python 3",
   "language": "python",
   "name": "python3"
  },
  "language_info": {
   "codemirror_mode": {
    "name": "ipython",
    "version": 3
   },
   "file_extension": ".py",
   "mimetype": "text/x-python",
   "name": "python",
   "nbconvert_exporter": "python",
   "pygments_lexer": "ipython3",
   "version": "3.9.16"
  },
  "orig_nbformat": 4
 },
 "nbformat": 4,
 "nbformat_minor": 2
}
